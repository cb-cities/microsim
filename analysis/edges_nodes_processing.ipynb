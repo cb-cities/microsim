{
 "cells": [
  {
   "cell_type": "code",
   "execution_count": 1,
   "metadata": {},
   "outputs": [],
   "source": [
    "import pandas as pd\n",
    "import numpy as np\n",
    "from collections import Counter"
   ]
  },
  {
   "cell_type": "code",
   "execution_count": 12,
   "metadata": {},
   "outputs": [],
   "source": [
    "def sortoutedges(edge_data, undirected = True):\n",
    "    if undirected == True:\n",
    "        # becomes a tuple\n",
    "        edge_data['uv'] = [(getattr(edge, 'start_node_id'), getattr(edge, 'end_node_id')) for edge in edge_data.itertuples()]\n",
    "        # becomes a tuple\n",
    "        edge_data['vu'] = [(getattr(edge, 'end_node_id'), getattr(edge, 'start_node_id')) for edge in edge_data.itertuples()]\n",
    "\n",
    "        uv_list = [] #records (u,v), if u >v, records (v,u)\n",
    "        for edge in edge_data.itertuples():\n",
    "            u = getattr(edge, 'start_node_id')\n",
    "            v = getattr(edge, 'end_node_id')\n",
    "            if u > v:\n",
    "                uv_list.append((v,u))\n",
    "            else:\n",
    "                uv_list.append((u,v))\n",
    "        # count the times that each pair of (u,v) exists. facilitate the following processing as some roads are single-way\n",
    "        result = Counter(uv_list) \n",
    "        uv_list_unique = list(result.keys()) # record one of the links in the two-way roads and record the links in single-way road\n",
    "\n",
    "        uv_list_1 = [uv for uv,number in result.items() if number ==1] # represent single-way roads \n",
    "        uv_list_2 = [uv for uv,number in result.items() if number == 2] # represent two-way roads  \n",
    "\n",
    "        # as these roads are two-way, one of the links in each road (start_node_id > end_node_id) is removed\n",
    "        edge_data_twoways = edge_data[edge_data['uv'].isin(uv_list_2)]\n",
    "        # uv_list_1 is records by sorting the two nodes in ascending order, maybe single-way (uv) is not in uv_list_1\n",
    "        # for example, the single-way link (u = 203, v = 197), then (203, 197) not in uv_list_1\n",
    "        # therefore, use ['uv'] and ['vu'] to search the single-way\n",
    "        edge_data_singleway = edge_data[(edge_data['uv'].isin(uv_list_1)) | (edge_data['vu'].isin(uv_list_1))]\n",
    "        edge_data_new = edge_data_twoways.append(edge_data_singleway)\n",
    "        edge_data_new.reset_index(drop = True, inplace = True)\n",
    "        edge_data_new['link_id'] = np.arange(edge_data_new.shape[0])\n",
    "\n",
    "    else:\n",
    "        edge_data_new = edge_data.copy()\n",
    "        \n",
    "    edge_data_new = edge_data_new[['link_id','start_node_id','end_node_id','start_osmid','end_osmid','length','maxmph','lanes']]\n",
    "    edge_data_new.rename(columns = {'maxmph':'speed_mph', 'length':'edge_length', 'start_node_id':'u', 'end_node_id':'v', \n",
    "                                    'start_osmid':'osmid_u', 'end_osmid':'osmid_v','link_id':'uniqueid'}, inplace = True)\n",
    "    edge_data_new['osmid_u'] = 1\n",
    "    edge_data_new['osmid_v'] = 2\n",
    "    edge_data_new['edge_length'] = np.round(edge_data_new['edge_length'],0)\n",
    "    edge_data_new['edge_length'] = edge_data_new['edge_length'].astype('int')\n",
    "    return edge_data_new\n"
   ]
  },
  {
   "cell_type": "code",
   "execution_count": 13,
   "metadata": {},
   "outputs": [],
   "source": [
    "path = './berkeley_links.csv'\n",
    "edge_data = pd.read_csv(path)\n",
    "edge_data_new = sortoutedges(edge_data, undirected = False)\n",
    "edge_data_new.to_csv('./berkeley_edges_processed.csv', index = False)"
   ]
  },
  {
   "cell_type": "code",
   "execution_count": 6,
   "metadata": {},
   "outputs": [],
   "source": [
    "def sortoutnodes(node_data):\n",
    "    node_data['index'] = node_data['node_id']\n",
    "    node_data['x'] = node_data['lon']\n",
    "    node_data['y'] = node_data['lat']\n",
    "    node_data['osmid'] = 1\n",
    "    node_data['ref'] = 'NA'\n",
    "    node_data['highway'] = 'NA'\n",
    "    node_data = node_data[['osmid','x','y','ref','highway','index']]\n",
    "    return node_data"
   ]
  },
  {
   "cell_type": "code",
   "execution_count": 7,
   "metadata": {},
   "outputs": [],
   "source": [
    "path = './berkeley_nodes.csv'\n",
    "node_data = pd.read_csv(path)\n",
    "node_data_new = sortoutnodes(node_data)\n",
    "node_data_new.to_csv('./berkeley_nodes_processed.csv', index = False)\n"
   ]
  },
  {
   "cell_type": "code",
   "execution_count": null,
   "metadata": {},
   "outputs": [],
   "source": []
  }
 ],
 "metadata": {
  "kernelspec": {
   "display_name": "Python 3",
   "language": "python",
   "name": "python3"
  },
  "language_info": {
   "codemirror_mode": {
    "name": "ipython",
    "version": 3
   },
   "file_extension": ".py",
   "mimetype": "text/x-python",
   "name": "python",
   "nbconvert_exporter": "python",
   "pygments_lexer": "ipython3",
   "version": "3.6.8"
  }
 },
 "nbformat": 4,
 "nbformat_minor": 2
}
